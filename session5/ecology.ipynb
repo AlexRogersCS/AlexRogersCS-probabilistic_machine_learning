{
  "nbformat": 4,
  "nbformat_minor": 0,
  "metadata": {
    "colab": {
      "provenance": []
    },
    "kernelspec": {
      "display_name": "Python 3",
      "language": "python",
      "name": "python3"
    },
    "language_info": {
      "codemirror_mode": {
        "name": "ipython",
        "version": 3
      },
      "file_extension": ".py",
      "mimetype": "text/x-python",
      "name": "python",
      "nbconvert_exporter": "python",
      "pygments_lexer": "ipython3",
      "version": "3.7.1"
    }
  },
  "cells": [
    {
      "cell_type": "markdown",
      "metadata": {
        "id": "X0Tmr6UalHUl"
      },
      "source": [
        "## Ecological Survey"
      ]
    },
    {
      "cell_type": "code",
      "source": [
        "import math\n",
        "import pymc as pm\n",
        "import numpy as np\n",
        "import seaborn as sns\n",
        "import matplotlib.pyplot as plt"
      ],
      "metadata": {
        "id": "WSdVeZzBeqSh"
      },
      "execution_count": null,
      "outputs": []
    },
    {
      "cell_type": "markdown",
      "metadata": {
        "id": "9axuGVn7lHUq"
      },
      "source": [
        "An ecologist is doing a survey to estimate the proportion of a population of bats that come from species A and the proportion that comes from species B. The two bat species are identical in appearance apart from their size and weight. Species A is typically smaller, with a mean weight of just 10 grams. The weight of individuals within the species differ, with a standard deviation of 5 grams. Species B is slightly larger and heavier, with a mean weight of 15 grams, and a standard deviation of 2.5 grams.\n",
        "\n",
        "Over a night time survey, the ecologist traps and weighs 20 bats. There weights are given below."
      ]
    },
    {
      "cell_type": "code",
      "source": [
        "data = np.array([9.4, 11.0, 19.3, 8.4, 12.9, 18.8, 8.0, 17.3, 15.4, 7.5, 14.9, 21.2, 16.6, 15.1, 19.1, 12.3, 11.7, 13.9, 16.9, 18.4])"
      ],
      "metadata": {
        "id": "slzrgtaP-cYS"
      },
      "execution_count": null,
      "outputs": []
    },
    {
      "cell_type": "markdown",
      "metadata": {
        "id": "JXtoSulVig0r"
      },
      "source": [
        "Build a probabilistic model that describes this setting and use the model to estimate the proportion of the overall bat population that comes from species A."
      ]
    }
  ]
}