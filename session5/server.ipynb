{
  "nbformat": 4,
  "nbformat_minor": 0,
  "metadata": {
    "colab": {
      "provenance": []
    },
    "kernelspec": {
      "display_name": "Python 3",
      "language": "python",
      "name": "python3"
    },
    "language_info": {
      "codemirror_mode": {
        "name": "ipython",
        "version": 3
      },
      "file_extension": ".py",
      "mimetype": "text/x-python",
      "name": "python",
      "nbconvert_exporter": "python",
      "pygments_lexer": "ipython3",
      "version": "3.7.1"
    }
  },
  "cells": [
    {
      "cell_type": "markdown",
      "metadata": {
        "id": "X0Tmr6UalHUl"
      },
      "source": [
        "## Server Performance"
      ]
    },
    {
      "cell_type": "code",
      "source": [
        "import math\n",
        "import pymc as pm\n",
        "import numpy as np\n",
        "import seaborn as sns\n",
        "import matplotlib.pyplot as plt"
      ],
      "metadata": {
        "id": "WSdVeZzBeqSh"
      },
      "execution_count": 45,
      "outputs": []
    },
    {
      "cell_type": "markdown",
      "metadata": {
        "id": "9axuGVn7lHUq"
      },
      "source": [
        "A system administrator is looking at the logs of a server. She notices that the number of outgoing messages to a particular IP address seems to have increased at some point during the last 100 days. She expects that this must have happened after a software update, and wants to use PyMC to estimate when the software update took place, and what the typical rate was before and after the change."
      ]
    },
    {
      "cell_type": "code",
      "source": [
        "day = np.linspace(1, 100, 100)\n",
        "\n",
        "messages = np.array([ 9,  5, 11,  8, 10, 11, 12, 16,  9,  7, 11, 17, 14,  6, 12, 11, 10,\n",
        "                     10,  9,  8,  3, 11, 11, 13, 12,  9, 14,  9,  8, 10,  8, 17, 11, 10,\n",
        "                      9,  8,  6,  8, 13, 15, 11, 20, 26, 15,  8, 17, 14, 14, 12, 14, 22,\n",
        "                     14, 16, 13, 23, 20, 17, 14, 14, 10, 18, 12, 20, 13, 11, 12,  9, 18,\n",
        "                      8, 19, 18, 10, 13, 19, 11, 20, 14, 22, 11, 14, 19, 10, 19,  5, 19,\n",
        "                     15, 22, 11, 13, 14, 17, 16, 16, 17, 24, 17, 13, 20, 16, 16])"
      ],
      "metadata": {
        "id": "slzrgtaP-cYS"
      },
      "execution_count": 51,
      "outputs": []
    }
  ]
}