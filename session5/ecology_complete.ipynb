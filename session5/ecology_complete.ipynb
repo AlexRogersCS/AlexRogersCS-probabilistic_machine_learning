{
  "nbformat": 4,
  "nbformat_minor": 0,
  "metadata": {
    "colab": {
      "provenance": []
    },
    "kernelspec": {
      "display_name": "Python 3",
      "language": "python",
      "name": "python3"
    },
    "language_info": {
      "codemirror_mode": {
        "name": "ipython",
        "version": 3
      },
      "file_extension": ".py",
      "mimetype": "text/x-python",
      "name": "python",
      "nbconvert_exporter": "python",
      "pygments_lexer": "ipython3",
      "version": "3.7.1"
    }
  },
  "cells": [
    {
      "cell_type": "markdown",
      "metadata": {
        "id": "X0Tmr6UalHUl"
      },
      "source": [
        "## Ecological Survey"
      ]
    },
    {
      "cell_type": "markdown",
      "source": [
        "This exercise asks you to build a probabilistic model to help an ecologist with their analysis."
      ],
      "metadata": {
        "id": "tF8oNrLiz9Dz"
      }
    },
    {
      "cell_type": "code",
      "metadata": {
        "id": "w6keY6NGrCxw"
      },
      "source": [
        "pip install pymc3"
      ],
      "execution_count": null,
      "outputs": []
    },
    {
      "cell_type": "code",
      "source": [
        "import math\n",
        "import pymc3 as pm\n",
        "import numpy as np\n",
        "import seaborn as sns\n",
        "import matplotlib.pyplot as plt"
      ],
      "metadata": {
        "id": "WSdVeZzBeqSh"
      },
      "execution_count": null,
      "outputs": []
    },
    {
      "cell_type": "markdown",
      "metadata": {
        "id": "9axuGVn7lHUq"
      },
      "source": [
        "An ecologist is doing a survey to estimate the proportion of a population of bats that come from species A and the proportion that comes from species B. The two bat species are identical in appearance apart from their size and weight. Species A is typically smaller, with a mean weight of just 10 grams. The weight of individuals within the species differ, with a standard deviation of 5 grams. Species B is slightly larger and heavier, with a mean weight of 15 grams, and a standard deviation of 2.5 grams.\n",
        "\n",
        "Over a night time survey, the ecologist traps and weighs 20 bats. There weights are given below."
      ]
    },
    {
      "cell_type": "code",
      "source": [
        "data = np.array([9.4, 11.0, 19.3, 8.4, 12.9, 18.8, 8.0, 17.3, 15.4, 7.5, 14.9, 21.2, 16.6, 15.1, 19.1, 12.3, 11.7, 13.9, 16.9, 18.4])"
      ],
      "metadata": {
        "id": "slzrgtaP-cYS"
      },
      "execution_count": null,
      "outputs": []
    },
    {
      "cell_type": "markdown",
      "metadata": {
        "id": "JXtoSulVig0r"
      },
      "source": [
        "Build a probabilistic model that describes this setting and use the model to estimate the proportion of the overall bat population that comes from species A."
      ]
    },
    {
      "cell_type": "code",
      "metadata": {
        "id": "ngTSlRbWlHUu"
      },
      "source": [
        "N = len(data)\n",
        "\n",
        "model = pm.Model() \n",
        "\n",
        "with model:\n",
        "    \n",
        "    p = pm.Beta('p', alpha=1, beta=1)\n",
        "\n",
        "    species = pm.Bernoulli('species', p=p, shape = (N))\n",
        "\n",
        "    mu = pm.math.switch(species, 10, 15)\n",
        "\n",
        "    sd = pm.math.switch(species, 5, 2.5)\n",
        "\n",
        "    obs = pm.Normal('obs', mu=mu, sd=sd, observed=pm.Data('data', data))"
      ],
      "execution_count": null,
      "outputs": []
    },
    {
      "cell_type": "code",
      "metadata": {
        "id": "fY5jP9S_AicJ"
      },
      "source": [
        "with model:\n",
        "    \n",
        "    trace = pm.sample(draws=2000)"
      ],
      "execution_count": null,
      "outputs": []
    },
    {
      "cell_type": "code",
      "source": [
        "with model:\n",
        "\n",
        "    pm.traceplot(trace, var_names=['p']);"
      ],
      "metadata": {
        "id": "GykMCaHkAZTN"
      },
      "execution_count": null,
      "outputs": []
    },
    {
      "cell_type": "code",
      "metadata": {
        "id": "4DlvfZHOAvKK"
      },
      "source": [
        "p = trace['p']\n",
        "\n",
        "plt.figure(figsize=(6, 4))\n",
        "plt.hist(p, bins=100, density=True)\n",
        "plt.xlim(0, 1)\n",
        "\n",
        "plt.title(\"Probability density function\")\n",
        "plt.xlabel(\"Fraction of population that is species A\");"
      ],
      "execution_count": null,
      "outputs": []
    },
    {
      "cell_type": "markdown",
      "metadata": {
        "id": "fg0SRZ53BsPr"
      },
      "source": [
        "We can use the trace to estimate the proportion of the bats from Species A."
      ]
    },
    {
      "cell_type": "code",
      "source": [
        "np.mean(trace['p'])"
      ],
      "metadata": {
        "id": "4BK-s8IEDFiY"
      },
      "execution_count": null,
      "outputs": []
    },
    {
      "cell_type": "markdown",
      "source": [
        "The uncertainty in this estimate is given by the standard deviation of the samples from the posterior."
      ],
      "metadata": {
        "id": "YHvsIe1B0gTj"
      }
    },
    {
      "cell_type": "code",
      "metadata": {
        "id": "snA6MJbnBCVZ"
      },
      "source": [
        "np.std(trace['p'])"
      ],
      "execution_count": null,
      "outputs": []
    },
    {
      "cell_type": "markdown",
      "source": [
        "We can also use the samples from 'species' to determine the probability of each of the bat caught being from Species A."
      ],
      "metadata": {
        "id": "R9Y69HGQ02JB"
      }
    },
    {
      "cell_type": "code",
      "source": [
        "probability_species_A = np.sum(trace['species'], 0) / len(trace['p'])"
      ],
      "metadata": {
        "id": "s75vmTkZ0-Km"
      },
      "execution_count": null,
      "outputs": []
    },
    {
      "cell_type": "code",
      "source": [
        "probability_species_A[0]"
      ],
      "metadata": {
        "id": "WqiXlART88YZ"
      },
      "execution_count": null,
      "outputs": []
    },
    {
      "cell_type": "code",
      "source": [
        "x = np.linspace(1, N, N)\n",
        "\n",
        "plt.figure(figsize=(6, 4))\n",
        "plt.bar(x=x, height=probability_species_A)\n",
        "\n",
        "plt.xticks(x)\n",
        "plt.title(\"Probability that the bat is from Species A\")\n",
        "plt.xlabel(\"ID of bat\");"
      ],
      "metadata": {
        "id": "Dphzsujg9DXA"
      },
      "execution_count": null,
      "outputs": []
    }
  ]
}