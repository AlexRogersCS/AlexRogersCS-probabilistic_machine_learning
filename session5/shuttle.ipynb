{
  "nbformat": 4,
  "nbformat_minor": 0,
  "metadata": {
    "colab": {
      "provenance": []
    },
    "kernelspec": {
      "name": "python3",
      "display_name": "Python 3"
    },
    "language_info": {
      "name": "python"
    }
  },
  "cells": [
    {
      "cell_type": "markdown",
      "source": [
        "## Space Shuttle Launch Temperature Data"
      ],
      "metadata": {
        "id": "hUJDhjxLOyrW"
      }
    },
    {
      "cell_type": "code",
      "source": [
        "import math\n",
        "import pymc as pm\n",
        "import numpy as np\n",
        "import seaborn as sns\n",
        "import matplotlib.pyplot as plt"
      ],
      "metadata": {
        "id": "rYONR6bNO4XV"
      },
      "execution_count": 1,
      "outputs": []
    },
    {
      "cell_type": "markdown",
      "source": [
        "The following dataset describes the ambient temperature at the time of each Space Shuttle launch, and whether o-ring damage was observed."
      ],
      "metadata": {
        "id": "llbx35qXPSBj"
      }
    },
    {
      "cell_type": "code",
      "source": [
        "temperature = np.array([66, 70, 69, 80, 68, 67, 72, 73, 70, 57, 63, 70, 78, 67, 53, 67, 75, 70, 81, 76, 79, 75, 76, 58])\n",
        "\n",
        "damage = np.array([0, 1, 0, 0, 0, 0, 0, 0, 0, 1, 1, 1, 0, 0, 1, 0, 0, 0, 0, 0, 0, 1, 0, 1])"
      ],
      "metadata": {
        "id": "NpcCCLYePUVM"
      },
      "execution_count": 2,
      "outputs": []
    }
  ]
}