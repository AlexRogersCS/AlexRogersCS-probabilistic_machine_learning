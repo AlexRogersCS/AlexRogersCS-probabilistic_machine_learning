{
  "nbformat": 4,
  "nbformat_minor": 0,
  "metadata": {
    "kernelspec": {
      "display_name": "Python 3",
      "language": "python",
      "name": "python3"
    },
    "language_info": {
      "codemirror_mode": {
        "name": "ipython",
        "version": 3
      },
      "file_extension": ".py",
      "mimetype": "text/x-python",
      "name": "python",
      "nbconvert_exporter": "python",
      "pygments_lexer": "ipython3",
      "version": "3.7.1"
    },
    "colab": {
      "provenance": []
    }
  },
  "cells": [
    {
      "cell_type": "markdown",
      "metadata": {
        "id": "KYPQdPnOfX1b"
      },
      "source": [
        "# Probability"
      ]
    },
    {
      "cell_type": "code",
      "metadata": {
        "id": "IXdOIcgUfX1g"
      },
      "source": [
        "import math\n",
        "import numpy as np\n",
        "import matplotlib.pyplot as plt"
      ],
      "execution_count": null,
      "outputs": []
    },
    {
      "cell_type": "markdown",
      "metadata": {
        "id": "HkghBoiAfX1g"
      },
      "source": [
        "### Single Die"
      ]
    },
    {
      "cell_type": "code",
      "metadata": {
        "id": "8ZGQR55bfX1h"
      },
      "source": [
        "N_SIDES = 6\n",
        "N_REPEATS = 10000\n",
        "\n",
        "samples = np.random.choice(np.arange(1, N_SIDES + 1), size=N_REPEATS)"
      ],
      "execution_count": null,
      "outputs": []
    },
    {
      "cell_type": "code",
      "metadata": {
        "id": "xS73b_QGfX1h"
      },
      "source": [
        "plt.figure(figsize=(10, 5))\n",
        "plt.hist(samples, np.arange(1, N_SIDES + 2) - 0.5, alpha=0.85, color=\"#7A68A6\", density=True)\n",
        "plt.title('Single die roll probability distribution')\n",
        "plt.xlim(0.5, N_SIDES + 0.5)\n",
        "plt.xticks(np.arange(1, N_SIDES + 1))\n",
        "plt.tight_layout()"
      ],
      "execution_count": null,
      "outputs": []
    },
    {
      "cell_type": "markdown",
      "metadata": {
        "id": "AJBrRwdUfX1i"
      },
      "source": [
        "### Multiple Dice"
      ]
    },
    {
      "cell_type": "code",
      "metadata": {
        "id": "qRUgOBLQfX1i"
      },
      "source": [
        "N_SIDES = 6\n",
        "N_DICE = 2\n",
        "N_REPEATS = 10000\n",
        "\n",
        "samples = np.random.choice(np.arange(1, N_SIDES + 1), size=(N_REPEATS, N_DICE))"
      ],
      "execution_count": null,
      "outputs": []
    },
    {
      "cell_type": "code",
      "metadata": {
        "id": "yTLvAOcUfX1j"
      },
      "source": [
        "total = np.sum(samples, 1)"
      ],
      "execution_count": null,
      "outputs": []
    },
    {
      "cell_type": "code",
      "metadata": {
        "id": "fbCrj3EkfX1j"
      },
      "source": [
        "plt.figure(figsize=(10, 5))\n",
        "plt.hist(total, np.arange(1, N_DICE * N_SIDES + 2) - 0.5, alpha=0.85, color=\"#7A68A6\", density=True)\n",
        "plt.title('Two dice roll probability distribution')\n",
        "plt.xlim(0.5, N_DICE * N_SIDES + 0.5)\n",
        "plt.xticks(np.arange(1, N_DICE * N_SIDES + 1))\n",
        "plt.tight_layout()"
      ],
      "execution_count": null,
      "outputs": []
    },
    {
      "cell_type": "markdown",
      "metadata": {
        "id": "UbtRRyYVfX1k"
      },
      "source": [
        "### Conditional Outcomes"
      ]
    },
    {
      "cell_type": "markdown",
      "metadata": {
        "id": "mxSfJeyvfX1k"
      },
      "source": [
        "We can use the same approach to explore more complex probabilities, for example, $P(D_1 + D_2 = 12)$."
      ]
    },
    {
      "cell_type": "code",
      "metadata": {
        "id": "AFSxbWq2fX1l"
      },
      "source": [
        "N_SIDES = 6\n",
        "N_DICE = 2\n",
        "N_REPEATS = 10000\n",
        "\n",
        "samples = np.random.choice(np.arange(1, N_SIDES + 1), size=(N_REPEATS, N_DICE))"
      ],
      "execution_count": null,
      "outputs": []
    },
    {
      "cell_type": "code",
      "metadata": {
        "id": "KeaJknDRfX1l"
      },
      "source": [
        "total = np.sum(samples, 1)"
      ],
      "execution_count": null,
      "outputs": []
    },
    {
      "cell_type": "code",
      "metadata": {
        "id": "1cQgJzAjfX1l"
      },
      "source": [
        "probability = np.sum(total == 12) / N_REPEATS"
      ],
      "execution_count": null,
      "outputs": []
    },
    {
      "cell_type": "code",
      "metadata": {
        "id": "LBaJfXXnfX1m"
      },
      "source": [
        "print('Probability: {:0.4f}'.format(probability))"
      ],
      "execution_count": null,
      "outputs": []
    },
    {
      "cell_type": "markdown",
      "metadata": {
        "id": "JyUpizp-fX1m"
      },
      "source": [
        "We can use the same approach to explore more complex probabilities, for example, $P(D_1 = 6|D_1 + D_2 > 10)$."
      ]
    },
    {
      "cell_type": "code",
      "metadata": {
        "id": "ZzKYza4AfX1m"
      },
      "source": [
        "dice_1 = samples[:,0]\n",
        "dice_2 = samples[:,1]\n",
        "\n",
        "total = np.sum(samples, 1)"
      ],
      "execution_count": null,
      "outputs": []
    },
    {
      "cell_type": "code",
      "metadata": {
        "id": "WGn6BjHifX1m"
      },
      "source": [
        "probability = np.sum(np.logical_and(dice_1 == 6, total > 10)) / np.sum(total > 10)"
      ],
      "execution_count": null,
      "outputs": []
    },
    {
      "cell_type": "code",
      "metadata": {
        "id": "ZAIoNlxMfX1n"
      },
      "source": [
        "print('Probability: {:0.4f}'.format(probability))"
      ],
      "execution_count": null,
      "outputs": []
    }
  ]
}