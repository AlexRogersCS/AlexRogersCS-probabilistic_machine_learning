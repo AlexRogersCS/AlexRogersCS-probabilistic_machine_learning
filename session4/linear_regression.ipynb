{
  "nbformat": 4,
  "nbformat_minor": 0,
  "metadata": {
    "colab": {
      "provenance": []
    },
    "kernelspec": {
      "display_name": "Python 3",
      "language": "python",
      "name": "python3"
    },
    "language_info": {
      "codemirror_mode": {
        "name": "ipython",
        "version": 3
      },
      "file_extension": ".py",
      "mimetype": "text/x-python",
      "name": "python",
      "nbconvert_exporter": "python",
      "pygments_lexer": "ipython3",
      "version": "3.7.1"
    }
  },
  "cells": [
    {
      "cell_type": "markdown",
      "metadata": {
        "id": "X0Tmr6UalHUl"
      },
      "source": [
        "## Linear Regression"
      ]
    },
    {
      "cell_type": "code",
      "metadata": {
        "id": "w6keY6NGrCxw"
      },
      "source": [
        "pip install pymc3"
      ],
      "execution_count": null,
      "outputs": []
    },
    {
      "cell_type": "code",
      "source": [
        "import math\n",
        "import pymc3 as pm\n",
        "import numpy as np\n",
        "import seaborn as sns\n",
        "import matplotlib.pyplot as plt"
      ],
      "metadata": {
        "id": "WSdVeZzBeqSh"
      },
      "execution_count": null,
      "outputs": []
    },
    {
      "cell_type": "markdown",
      "metadata": {
        "id": "9axuGVn7lHUq"
      },
      "source": [
        "We can generate an example dataset by adding noise to a simple linear relationship."
      ]
    },
    {
      "cell_type": "code",
      "metadata": {
        "id": "fQKy67u-lHUq"
      },
      "source": [
        "N = 10\n",
        "\n",
        "c = 3\n",
        "m = 2\n",
        "\n",
        "x = np.linspace(1, N, N)\n",
        "y = m * x + c + np.random.normal(size=N)"
      ],
      "execution_count": null,
      "outputs": []
    },
    {
      "cell_type": "markdown",
      "metadata": {
        "id": "JXtoSulVig0r"
      },
      "source": [
        "A plot of y against x looks roughly linear."
      ]
    },
    {
      "cell_type": "code",
      "metadata": {
        "id": "imgbJkDulHUr"
      },
      "source": [
        "plt.figure(figsize=(10, 4))\n",
        "plt.plot(x, y, 'o');\n",
        "plt.xlabel('x')\n",
        "plt.ylabel('y');"
      ],
      "execution_count": null,
      "outputs": []
    },
    {
      "cell_type": "markdown",
      "metadata": {
        "id": "AAnb3KGrinRW"
      },
      "source": [
        "We might use a normal least-squares regression package to find the best fit line."
      ]
    },
    {
      "cell_type": "code",
      "metadata": {
        "id": "w0Le9-xylHUs"
      },
      "source": [
        "from sklearn.linear_model import LinearRegression\n",
        "\n",
        "reg = LinearRegression().fit(x.reshape(-1, 1), y)\n",
        "\n",
        "x_predict = np.linspace(0, 10, 1001)\n",
        "y_predict = reg.coef_[0] * x_predict + reg.intercept_\n",
        "\n",
        "plt.figure(figsize=(10, 4))\n",
        "plt.plot(x, y, 'o');\n",
        "plt.plot(x_predict, y_predict, 'r');\n",
        "plt.xlabel('x')\n",
        "plt.ylabel('y');"
      ],
      "execution_count": null,
      "outputs": []
    },
    {
      "cell_type": "code",
      "metadata": {
        "id": "Nkew2WLe725A"
      },
      "source": [
        "reg.intercept_"
      ],
      "execution_count": null,
      "outputs": []
    },
    {
      "cell_type": "code",
      "metadata": {
        "id": "rKPK_5q973Nf"
      },
      "source": [
        "reg.coef_[0]"
      ],
      "execution_count": null,
      "outputs": []
    },
    {
      "cell_type": "markdown",
      "metadata": {
        "id": "bGY7o5A16y_O"
      },
      "source": [
        "We can describe the same model with prograbablistic programming."
      ]
    },
    {
      "cell_type": "code",
      "metadata": {
        "id": "p4_eHVeM6tAq"
      },
      "source": [
        "model = pm.Model() \n",
        "\n",
        "with model:\n",
        "    \n",
        "    m = pm.Normal('m', mu=0.0, sd=1.0)\n",
        "\n",
        "    c = pm.Normal('c', mu=0.0, sd=1.0)\n",
        "    \n",
        "    sd = pm.Exponential('sd', lam=1.0)\n",
        "\n",
        "    mu = m * x + c\n",
        "    \n",
        "    Y_obs = pm.Normal('Y_obs', mu=mu, sd=sd, observed=pm.Data('y', y))"
      ],
      "execution_count": null,
      "outputs": []
    },
    {
      "cell_type": "code",
      "metadata": {
        "id": "FR1AI9z66Nej"
      },
      "source": [
        "with model:\n",
        "    \n",
        "    trace = pm.sample(draws=2000)"
      ],
      "execution_count": null,
      "outputs": []
    },
    {
      "cell_type": "code",
      "metadata": {
        "id": "ckKlhhnw7aP1"
      },
      "source": [
        "pm.traceplot(trace, var_names=['m', 'c', 'sd']);"
      ],
      "execution_count": null,
      "outputs": []
    },
    {
      "cell_type": "code",
      "metadata": {
        "id": "PS8nOOM77nMh"
      },
      "source": [
        "m = np.mean(trace['m'])\n",
        "c = np.mean(trace['c'])\n",
        "\n",
        "x_predict = np.linspace(0, 10, 1001)\n",
        "y_predict = m * x_predict + c\n",
        "\n",
        "plt.figure(figsize=(10, 4))\n",
        "plt.plot(x, y, 'o');\n",
        "plt.plot(x_predict, y_predict, 'r');\n",
        "plt.xlabel('x')\n",
        "plt.ylabel('y');"
      ],
      "execution_count": null,
      "outputs": []
    },
    {
      "cell_type": "code",
      "metadata": {
        "id": "n9wTVvJP-m4K"
      },
      "source": [
        "sns.kdeplot(trace['m'], trace['c']);\n",
        "plt.xlabel('m')\n",
        "plt.ylabel('c')"
      ],
      "execution_count": null,
      "outputs": []
    },
    {
      "cell_type": "code",
      "metadata": {
        "id": "Yoh3ozQz-8k6"
      },
      "source": [
        "m = trace['m']\n",
        "c = trace['c']\n",
        "\n",
        "plt.figure(figsize=(10, 4))\n",
        "for i in range(1000):\n",
        "  x_predict = np.linspace(0, 10, 1001)\n",
        "  y_predict = m[i] * x_predict + c[i]\n",
        "  plt.plot(x_predict, y_predict, 'r', alpha=0.01);\n",
        "plt.plot(x, y, 'o');\n",
        "plt.xlabel('x')\n",
        "plt.ylabel('y');"
      ],
      "execution_count": null,
      "outputs": []
    },
    {
      "cell_type": "markdown",
      "metadata": {
        "id": "qddtMC47lHUs"
      },
      "source": [
        "## Handling Outliers\n"
      ]
    },
    {
      "cell_type": "markdown",
      "metadata": {
        "id": "6yrpatjv8ldI"
      },
      "source": [
        "If we have outliers in our dataset, standard linear regression is a bit more tricky."
      ]
    },
    {
      "cell_type": "code",
      "metadata": {
        "id": "N4Zp_Fzc8ryF"
      },
      "source": [
        "y_outlier = y\n",
        "\n",
        "y_outlier[3] += 20"
      ],
      "execution_count": null,
      "outputs": []
    },
    {
      "cell_type": "markdown",
      "metadata": {
        "id": "_sWMC9fH_yoA"
      },
      "source": [
        "If we apply linear regression the single outlier affects our estimate of the gradient and intercept."
      ]
    },
    {
      "cell_type": "code",
      "metadata": {
        "id": "-SHdiqz1lHUt"
      },
      "source": [
        "reg = LinearRegression().fit(x.reshape(-1, 1), y_outlier)\n",
        "\n",
        "x_predict = np.linspace(0, 10, 1001)\n",
        "y_predict = reg.coef_[0] * x_predict + reg.intercept_\n",
        "\n",
        "plt.figure(figsize=(10, 4))\n",
        "plt.plot(x, y_outlier, 'o');\n",
        "plt.plot(x_predict, y_predict, 'r');\n",
        "plt.xlabel('x')\n",
        "plt.ylabel('y');"
      ],
      "execution_count": null,
      "outputs": []
    },
    {
      "cell_type": "markdown",
      "metadata": {
        "id": "pFeyk_JI_74m"
      },
      "source": [
        "However, we can build the existance of outliers into our probablistic model."
      ]
    },
    {
      "cell_type": "code",
      "metadata": {
        "id": "ngTSlRbWlHUu"
      },
      "source": [
        "model = pm.Model() \n",
        "\n",
        "with model:\n",
        "    \n",
        "    m = pm.Normal('m', mu=0.0, sd=1.0)\n",
        "\n",
        "    c = pm.Normal('c', mu=0.0, sd=1.0)\n",
        "    \n",
        "    sd_data = pm.Exponential('sd', lam=1.0)\n",
        "\n",
        "    sd_outlier = 100\n",
        "\n",
        "    P_outlier = pm.Bernoulli('outlier', p=0.1, shape = (N))\n",
        "\n",
        "    sd = pm.math.switch(P_outlier, sd_outlier, sd_data)\n",
        "    \n",
        "    mu = m * x + c\n",
        "\n",
        "    Y_obs = pm.Normal('Y_obs', mu=mu, sd=sd, observed=pm.Data('y', y_outlier))"
      ],
      "execution_count": null,
      "outputs": []
    },
    {
      "cell_type": "code",
      "metadata": {
        "id": "fY5jP9S_AicJ"
      },
      "source": [
        "with model:\n",
        "    \n",
        "    trace = pm.sample(draws=2000)"
      ],
      "execution_count": null,
      "outputs": []
    },
    {
      "cell_type": "markdown",
      "metadata": {
        "id": "VXCMjsxXBylb"
      },
      "source": [
        "Taking the mean of the posterior and ploting the resulting straight line shows the effectiveness of this approach."
      ]
    },
    {
      "cell_type": "code",
      "metadata": {
        "id": "4DlvfZHOAvKK"
      },
      "source": [
        "m = np.mean(trace['m'])\n",
        "c = np.mean(trace['c'])\n",
        "\n",
        "x_predict = np.linspace(0, 10, 1001)\n",
        "y_predict = m * x_predict + c\n",
        "\n",
        "plt.figure(figsize=(10, 4))\n",
        "plt.plot(x, y_outlier, 'o');\n",
        "plt.plot(x_predict, y_predict, 'r');\n",
        "plt.xlabel('x')\n",
        "plt.ylabel('y');"
      ],
      "execution_count": null,
      "outputs": []
    },
    {
      "cell_type": "markdown",
      "metadata": {
        "id": "fg0SRZ53BsPr"
      },
      "source": [
        "We can use the trace to calculate the probability that any point is an outlier."
      ]
    },
    {
      "cell_type": "code",
      "metadata": {
        "id": "snA6MJbnBCVZ"
      },
      "source": [
        "plt.bar(x, np.mean(trace['outlier'], 0))\n",
        "plt.xlabel('x')\n",
        "plt.ylabel('P_outlier')"
      ],
      "execution_count": null,
      "outputs": []
    },
    {
      "cell_type": "markdown",
      "metadata": {
        "id": "uavcbHQtB-Qr"
      },
      "source": [
        "## Noise on the X-Axis"
      ]
    },
    {
      "cell_type": "markdown",
      "metadata": {
        "id": "eWQ3kDMxCCbX"
      },
      "source": [
        "Standard linear regression has no way of handling noise on the x-axis."
      ]
    },
    {
      "cell_type": "code",
      "metadata": {
        "id": "OPRehseKlHUv"
      },
      "source": [
        "N = 10\n",
        "\n",
        "c = 3\n",
        "m = 2\n",
        "\n",
        "x = np.linspace(1, N, N) + np.random.normal(size=N) \n",
        "y = m * np.linspace(1, N, N) + c + np.random.normal(size=N)       \n",
        "\n",
        "plt.figure(figsize=(10, 4))\n",
        "plt.plot(x, y, 'o');\n",
        "plt.xlabel('x')\n",
        "plt.ylabel('y');"
      ],
      "execution_count": null,
      "outputs": []
    },
    {
      "cell_type": "markdown",
      "metadata": {
        "id": "Bji8iW16CncR"
      },
      "source": [
        "We can easily incorporate this into our probablistic programming approach."
      ]
    },
    {
      "cell_type": "code",
      "metadata": {
        "id": "CK1lp6fBlHUw"
      },
      "source": [
        "model = pm.Model() \n",
        "\n",
        "with model:\n",
        "    \n",
        "    m = pm.Normal('m', mu=0.0, sd=1.0)\n",
        "\n",
        "    c = pm.Normal('c', mu=0.0, sd=1.0)\n",
        "    \n",
        "    sd = pm.Exponential('sd', lam=1.0)\n",
        "\n",
        "    mu_x = pm.Uniform('mu_x', 0, 20, shape=(N))\n",
        "\n",
        "    X_obs = pm.Normal('X_obs', mu=mu_x, sd=sd, observed=pm.Data('x', x))\n",
        "\n",
        "    mu_y = m * X_obs + c\n",
        "\n",
        "    Y_obs = pm.Normal('Y_obs', mu=mu_y, sd=sd, observed=pm.Data('y', y))"
      ],
      "execution_count": null,
      "outputs": []
    },
    {
      "cell_type": "code",
      "metadata": {
        "id": "Bg5v99QZDEcQ"
      },
      "source": [
        "with model:\n",
        "    \n",
        "    trace = pm.sample(draws=2000)"
      ],
      "execution_count": null,
      "outputs": []
    },
    {
      "cell_type": "code",
      "metadata": {
        "id": "pErI135LDVe4"
      },
      "source": [
        "pm.traceplot(trace, var_names=['m', 'c', 'sd']);"
      ],
      "execution_count": null,
      "outputs": []
    },
    {
      "cell_type": "markdown",
      "metadata": {
        "id": "2VO4S2tfDelC"
      },
      "source": []
    },
    {
      "cell_type": "code",
      "metadata": {
        "id": "LwzPuVe6DfRO"
      },
      "source": [
        "m = np.mean(trace['m'])\n",
        "c = np.mean(trace['c'])\n",
        "\n",
        "x_predict = np.linspace(0, 10, 1001)\n",
        "y_predict = m * x_predict + c\n",
        "\n",
        "plt.figure(figsize=(10, 4))\n",
        "plt.plot(x, y, 'o');\n",
        "plt.plot(x_predict, y_predict, 'r');\n",
        "plt.xlabel('x')\n",
        "plt.ylabel('y');"
      ],
      "execution_count": null,
      "outputs": []
    },
    {
      "cell_type": "code",
      "metadata": {
        "id": "aTtIc3zYEm3e"
      },
      "source": [
        "m = trace['m']\n",
        "c = trace['c']\n",
        "\n",
        "plt.figure(figsize=(10, 4))\n",
        "for i in range(1000):\n",
        "  x_predict = np.linspace(-2, 12, 1001)\n",
        "  y_predict = m[i] * x_predict + c[i]\n",
        "  plt.plot(x_predict, y_predict, 'r', alpha=0.01);\n",
        "plt.plot(x, y, 'o');\n",
        "plt.xlabel('x')\n",
        "plt.ylabel('y');"
      ],
      "execution_count": null,
      "outputs": []
    },
    {
      "cell_type": "markdown",
      "source": [
        "## Linear regression with a maximum value"
      ],
      "metadata": {
        "id": "MsW-qzgAfVbj"
      }
    },
    {
      "cell_type": "markdown",
      "source": [
        "We can also imagine any combination of piece-wise functions. A common example would be a sensor that reads linearly and then stops."
      ],
      "metadata": {
        "id": "U6_rjo5pfZVz"
      }
    },
    {
      "cell_type": "code",
      "source": [
        "N = 10\n",
        "\n",
        "maxY = 15\n",
        "\n",
        "c = 3\n",
        "m = 2\n",
        "\n",
        "x = np.linspace(1, N, N)\n",
        "y = np.minimum(m * x + c, maxY) + np.random.normal(size=N)"
      ],
      "metadata": {
        "id": "Cpzk1H9QfUn-"
      },
      "execution_count": null,
      "outputs": []
    },
    {
      "cell_type": "code",
      "source": [
        "plt.figure(figsize=(10, 4))\n",
        "plt.plot(x, y, 'o');\n",
        "plt.xlabel('x')\n",
        "plt.ylabel('y');"
      ],
      "metadata": {
        "id": "3e9Eung0fukP"
      },
      "execution_count": null,
      "outputs": []
    },
    {
      "cell_type": "code",
      "source": [
        "model = pm.Model() \n",
        "\n",
        "with model:\n",
        "    \n",
        "    m = pm.Normal('m', mu=0.0, sd=1.0)\n",
        "\n",
        "    c = pm.Normal('c', mu=0.0, sd=1.0)\n",
        "    \n",
        "    sd = pm.Exponential('sd', lam=1.0)\n",
        "\n",
        "    maxY = pm.Exponential('maxY', lam=1.0)\n",
        "\n",
        "    mu = pm.math.minimum(m * x + c, maxY)\n",
        "    \n",
        "    Y_obs = pm.Normal('Y_obs', mu=mu, sd=sd, observed=pm.Data('y', y))"
      ],
      "metadata": {
        "id": "mbFwPiZWgJ0A"
      },
      "execution_count": null,
      "outputs": []
    },
    {
      "cell_type": "code",
      "source": [
        "with model:\n",
        "    \n",
        "    trace = pm.sample(draws=2000)"
      ],
      "metadata": {
        "id": "NFGUNiEcgnls"
      },
      "execution_count": null,
      "outputs": []
    },
    {
      "cell_type": "code",
      "source": [
        "pm.traceplot(trace, var_names=['m', 'c', 'sd', 'maxY']);"
      ],
      "metadata": {
        "id": "XCBR0vNBgpk3"
      },
      "execution_count": null,
      "outputs": []
    },
    {
      "cell_type": "code",
      "source": [
        "m = np.mean(trace['m'])\n",
        "c = np.mean(trace['c'])\n",
        "maxY = np.mean(trace['maxY'])\n",
        "\n",
        "x_predict = np.linspace(0, 10, 1001)\n",
        "y_predict = np.minimum(m * x_predict + c, maxY)\n",
        "\n",
        "plt.figure(figsize=(10, 4))\n",
        "plt.plot(x, y, 'o');\n",
        "plt.plot(x_predict, y_predict, 'r');\n",
        "plt.xlabel('x')\n",
        "plt.ylabel('y');"
      ],
      "metadata": {
        "id": "kBcdflfogMSY"
      },
      "execution_count": null,
      "outputs": []
    }
  ]
}