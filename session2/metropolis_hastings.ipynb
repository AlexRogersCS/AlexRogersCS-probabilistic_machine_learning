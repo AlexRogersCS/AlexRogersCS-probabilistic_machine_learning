{
  "nbformat": 4,
  "nbformat_minor": 0,
  "metadata": {
    "kernelspec": {
      "display_name": "Python 3",
      "language": "python",
      "name": "python3"
    },
    "language_info": {
      "codemirror_mode": {
        "name": "ipython",
        "version": 3
      },
      "file_extension": ".py",
      "mimetype": "text/x-python",
      "name": "python",
      "nbconvert_exporter": "python",
      "pygments_lexer": "ipython3",
      "version": "3.7.1"
    },
    "colab": {
      "name": "metropolis_hastings.ipynb",
      "provenance": []
    }
  },
  "cells": [
    {
      "cell_type": "markdown",
      "metadata": {
        "id": "HUwcG_FRwWBX"
      },
      "source": [
        "# Metropolis-Hastings Algorithm"
      ]
    },
    {
      "cell_type": "code",
      "metadata": {
        "id": "7tAV52CgwWBa"
      },
      "source": [
        "import math\n",
        "import pymc3 as pm\n",
        "import numpy as np\n",
        "import pandas as pd\n",
        "import seaborn as sns\n",
        "import matplotlib.pyplot as plt"
      ],
      "execution_count": null,
      "outputs": []
    },
    {
      "cell_type": "code",
      "metadata": {
        "id": "20L32YcwwWBb"
      },
      "source": [
        "from scipy.stats import beta"
      ],
      "execution_count": null,
      "outputs": []
    },
    {
      "cell_type": "markdown",
      "metadata": {
        "id": "CQLqJ8knwWBb"
      },
      "source": [
        "### Flipping a Fair Coin \n",
        "\n",
        "We assume that we flip a coin $N$ times and observe that $n$ of these are heads."
      ]
    },
    {
      "cell_type": "code",
      "metadata": {
        "id": "gQwYLBsEwWBc"
      },
      "source": [
        "N = 6\n",
        "n = 2"
      ],
      "execution_count": null,
      "outputs": []
    },
    {
      "cell_type": "markdown",
      "metadata": {
        "id": "PL_Knb71wWBc"
      },
      "source": [
        "We have the same likelihood function as before, $P(n|p,N)$."
      ]
    },
    {
      "cell_type": "code",
      "metadata": {
        "id": "VG5rJRwIwWBc"
      },
      "source": [
        "def likelihood(n, p, N):\n",
        "    return np.math.factorial(N) / np.math.factorial(n) / np.math.factorial(N-n) * np.power(p, n) * np.power(1.0 - p, N-n)"
      ],
      "execution_count": null,
      "outputs": []
    },
    {
      "cell_type": "markdown",
      "metadata": {
        "id": "IdvB4_TTwWBd"
      },
      "source": [
        "We will use a discrete distribution for our prior belief about $p$. We will assume 51 possible values ranging from 0 to 1."
      ]
    },
    {
      "cell_type": "code",
      "metadata": {
        "id": "E9b8cWdnwWBd"
      },
      "source": [
        "trace = []\n",
        "\n",
        "NUMBER_OF_SAMPLES = 100000\n",
        "\n",
        "SAMPLE_STD = 0.1\n",
        "\n",
        "p = 0.5\n",
        "\n",
        "while len(trace) < NUMBER_OF_SAMPLES:\n",
        "    \n",
        "    p_candidate = np.maximum(0.0, np.minimum(1.0, p + SAMPLE_STD * np.random.normal()))\n",
        "    \n",
        "    alpha = likelihood(n, p_candidate, N) / likelihood(n, p, N)\n",
        "    \n",
        "    if np.random.random() < alpha:\n",
        "        \n",
        "        trace.append(p_candidate)\n",
        "        \n",
        "        p = p_candidate"
      ],
      "execution_count": null,
      "outputs": []
    },
    {
      "cell_type": "markdown",
      "metadata": {
        "id": "kSyDvKnywWBe"
      },
      "source": [
        "We can then plot the trace."
      ]
    },
    {
      "cell_type": "code",
      "metadata": {
        "id": "qrZb1bkVwWBe"
      },
      "source": [
        "plt.figure(figsize=(10, 8))\n",
        "plt.plot(trace, color=\"#7A68A6\")\n",
        "plt.xlim(0, NUMBER_OF_SAMPLES)\n",
        "plt.ylim(0, 1)\n",
        "plt.title(\"Posterior Samples\")\n",
        "plt.xlabel(\"Sample Number\")\n",
        "\n",
        "plt.tight_layout()"
      ],
      "execution_count": null,
      "outputs": []
    },
    {
      "cell_type": "markdown",
      "metadata": {
        "id": "CKz8pchDwWBg"
      },
      "source": [
        "We can also plot a histogram of the samples and ask matplotlib to generate a probability density."
      ]
    },
    {
      "cell_type": "code",
      "metadata": {
        "id": "v26yfKuqwWBg"
      },
      "source": [
        "plt.figure(figsize=(10, 8))\n",
        "\n",
        "plt.hist(trace, bins = 51, color=\"#7A68A6\", density=True)\n",
        "plt.xlim(0, 1)\n",
        "plt.title(\"Posterior Belief Probability Density Function\")\n",
        "plt.xlabel(\"Probability of Heads ($p$)\")\n",
        "\n",
        "plt.tight_layout()"
      ],
      "execution_count": null,
      "outputs": []
    },
    {
      "cell_type": "markdown",
      "metadata": {
        "id": "5a3vmJLKwWBh"
      },
      "source": [
        "We can then compare this against the analytic solution calculated from the beta probability density function."
      ]
    },
    {
      "cell_type": "code",
      "metadata": {
        "id": "HcoXzo-owWBh"
      },
      "source": [
        "a = n + 1\n",
        "b = N - n + 1"
      ],
      "execution_count": null,
      "outputs": []
    },
    {
      "cell_type": "code",
      "metadata": {
        "id": "ulp5V6l6wWBh"
      },
      "source": [
        "STEPS = 1001\n",
        "\n",
        "p = np.linspace(0, 1, STEPS)\n",
        "\n",
        "posterior = beta.pdf(p, a, b)"
      ],
      "execution_count": null,
      "outputs": []
    },
    {
      "cell_type": "code",
      "metadata": {
        "id": "TYIpIYuAwWBi"
      },
      "source": [
        "plt.figure(figsize=(10, 8))\n",
        "\n",
        "plt.hist(trace, bins = 51, color=\"#7A68A6\", density=True)\n",
        "plt.plot(p, beta.pdf(p, a, b))\n",
        "plt.xlim(0, 1)\n",
        "plt.title(\"Posterior Belief Probability Density Function\")\n",
        "plt.xlabel(\"Probability of Heads ($p$)\")\n",
        "\n",
        "plt.tight_layout()"
      ],
      "execution_count": null,
      "outputs": []
    }
  ]
}