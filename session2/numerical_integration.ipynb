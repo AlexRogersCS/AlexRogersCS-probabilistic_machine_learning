{
  "nbformat": 4,
  "nbformat_minor": 0,
  "metadata": {
    "kernelspec": {
      "display_name": "Python 3",
      "language": "python",
      "name": "python3"
    },
    "language_info": {
      "codemirror_mode": {
        "name": "ipython",
        "version": 3
      },
      "file_extension": ".py",
      "mimetype": "text/x-python",
      "name": "python",
      "nbconvert_exporter": "python",
      "pygments_lexer": "ipython3",
      "version": "3.7.1"
    },
    "colab": {
      "name": "numerical_integration.ipynb",
      "provenance": []
    }
  },
  "cells": [
    {
      "cell_type": "markdown",
      "metadata": {
        "id": "j3LDIQNgvNP7"
      },
      "source": [
        "# Numerical Integration"
      ]
    },
    {
      "cell_type": "code",
      "metadata": {
        "id": "97qtH4oNvNP8"
      },
      "source": [
        "import math\n",
        "import pymc3 as pm\n",
        "import numpy as np\n",
        "import pandas as pd\n",
        "import seaborn as sns\n",
        "import matplotlib.pyplot as plt"
      ],
      "execution_count": null,
      "outputs": []
    },
    {
      "cell_type": "markdown",
      "metadata": {
        "id": "igoxdzB9vNP8"
      },
      "source": [
        "### Flipping a Fair Coin \n",
        "\n",
        "We assume that we flip a coin $N$ times and observe that $n$ of these are heads."
      ]
    },
    {
      "cell_type": "code",
      "metadata": {
        "id": "hZxRVU19vNP8"
      },
      "source": [
        "N = 6\n",
        "n = 2"
      ],
      "execution_count": null,
      "outputs": []
    },
    {
      "cell_type": "markdown",
      "metadata": {
        "id": "SrUaFksbvNP8"
      },
      "source": [
        "We can write a function for the likelihood, $P(n|p,N)$, that depends on $p$, $n$ and $N$.\n",
        "\n",
        "\\begin{equation}\n",
        "P(n|p,N) = \\frac{N!}{n!\\left(N-n\\right)!} p^n (1-p)^{N-n} \\\\\n",
        "\\end{equation}"
      ]
    },
    {
      "cell_type": "code",
      "metadata": {
        "id": "pQuhyPmHvNP9"
      },
      "source": [
        "def likelihood(n, p, N):\n",
        "    return np.math.factorial(N) / np.math.factorial(n) / np.math.factorial(N-n) * np.power(p, n) * np.power(1.0 - p, N-n)"
      ],
      "execution_count": null,
      "outputs": []
    },
    {
      "cell_type": "markdown",
      "metadata": {
        "id": "1X7qJDJQvNP9"
      },
      "source": [
        "We will use a discrete distribution for our prior belief about $p$. We will assume 51 possible values ranging from 0 to 1."
      ]
    },
    {
      "cell_type": "code",
      "metadata": {
        "id": "eEj2lUGivNP9"
      },
      "source": [
        "STEPS = 11\n",
        "\n",
        "p = np.linspace(0, 1, STEPS)\n",
        "\n",
        "prior = np.ones(STEPS)\n",
        "\n",
        "prior /= np.sum(prior)"
      ],
      "execution_count": null,
      "outputs": []
    },
    {
      "cell_type": "markdown",
      "metadata": {
        "id": "Pq22vSL5vNP9"
      },
      "source": [
        "We can plot our prior beliefs."
      ]
    },
    {
      "cell_type": "code",
      "metadata": {
        "id": "lkhgfnpFvNP-"
      },
      "source": [
        "plt.figure(figsize=(10, 8))\n",
        "\n",
        "BAR_WIDTH = 1/(STEPS - 1)\n",
        "\n",
        "plt.bar(p, height=prior, width=BAR_WIDTH)\n",
        "\n",
        "plt.xlim(0, 1)\n",
        "plt.title(\"Prior Belief\")\n",
        "plt.xlabel(\"Probability of Heads ($p$)\")\n",
        "\n",
        "plt.tight_layout()"
      ],
      "execution_count": null,
      "outputs": []
    },
    {
      "cell_type": "markdown",
      "metadata": {
        "id": "SK8hfeH1vNP-"
      },
      "source": [
        "We can then use Bayes rule to calculate our posterior belief.\n",
        "\n",
        "\\begin{equation}\n",
        "P(p|n,N) = \\frac{P(n|p,N)P(p)}{\\sum_{p} P(n|p,N)P(p)}\n",
        "\\end{equation}"
      ]
    },
    {
      "cell_type": "code",
      "metadata": {
        "id": "9gM0BQzRvNP-"
      },
      "source": [
        "posterior = likelihood(n, p, N) * prior\n",
        "\n",
        "posterior /= np.sum(posterior)"
      ],
      "execution_count": null,
      "outputs": []
    },
    {
      "cell_type": "markdown",
      "metadata": {
        "id": "p5BnwaffvNP_"
      },
      "source": [
        "We can plot our posterior beliefs."
      ]
    },
    {
      "cell_type": "code",
      "metadata": {
        "id": "HE9bMGoPvNP_"
      },
      "source": [
        "plt.figure(figsize=(10, 8))\n",
        "plt.bar(p, height=posterior, width=BAR_WIDTH)\n",
        "\n",
        "plt.xlim(0, 1)\n",
        "plt.title(\"Posterior Belief\")\n",
        "plt.xlabel(\"Probability of Heads ($p$)\")\n",
        "\n",
        "plt.tight_layout()"
      ],
      "execution_count": null,
      "outputs": []
    },
    {
      "cell_type": "markdown",
      "metadata": {
        "id": "bJMgYJAivNP_"
      },
      "source": [
        "### More Coin Flips"
      ]
    },
    {
      "cell_type": "markdown",
      "metadata": {
        "id": "BvE_ZrwXvNQA"
      },
      "source": [
        "We now flip the coin two more times and see two more heads. Rather than starting from our initial prior. We can use our posterior in another iteration of Bayes rule."
      ]
    },
    {
      "cell_type": "code",
      "metadata": {
        "id": "bFKqVK3FvNQA"
      },
      "source": [
        "N = 2\n",
        "n = 2\n",
        "\n",
        "posterior = likelihood(n, p, N) * posterior\n",
        "\n",
        "posterior /= np.sum(posterior)"
      ],
      "execution_count": null,
      "outputs": []
    },
    {
      "cell_type": "markdown",
      "metadata": {
        "id": "5un2dyIivNQA"
      },
      "source": [
        "We can again plot our updated posterior beliefs."
      ]
    },
    {
      "cell_type": "code",
      "metadata": {
        "id": "puyQbGDvvNQB"
      },
      "source": [
        "plt.figure(figsize=(10, 8))\n",
        "plt.bar(p, height=posterior, width=BAR_WIDTH)\n",
        "\n",
        "plt.xlim(0, 1)\n",
        "plt.title(\"Posterior Belief\")\n",
        "plt.xlabel(\"Probability of Heads ($p$)\")\n",
        "\n",
        "plt.tight_layout()"
      ],
      "execution_count": null,
      "outputs": []
    }
  ]
}