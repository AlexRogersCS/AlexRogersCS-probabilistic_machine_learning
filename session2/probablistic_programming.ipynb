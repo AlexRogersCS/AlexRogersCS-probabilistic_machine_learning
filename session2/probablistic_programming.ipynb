{
  "nbformat": 4,
  "nbformat_minor": 0,
  "metadata": {
    "kernelspec": {
      "display_name": "Python 3",
      "language": "python",
      "name": "python3"
    },
    "language_info": {
      "codemirror_mode": {
        "name": "ipython",
        "version": 3
      },
      "file_extension": ".py",
      "mimetype": "text/x-python",
      "name": "python",
      "nbconvert_exporter": "python",
      "pygments_lexer": "ipython3",
      "version": "3.7.1"
    },
    "colab": {
      "provenance": []
    }
  },
  "cells": [
    {
      "cell_type": "markdown",
      "metadata": {
        "id": "UcRDly6sw5Ls"
      },
      "source": [
        "# Probabilistic Programming"
      ]
    },
    {
      "cell_type": "code",
      "metadata": {
        "id": "pDaQqPIMw5Lu"
      },
      "source": [
        "import math\n",
        "import pymc as pm\n",
        "import numpy as np\n",
        "import matplotlib.pyplot as plt"
      ],
      "execution_count": null,
      "outputs": []
    },
    {
      "cell_type": "markdown",
      "metadata": {
        "id": "yS3xmSP9w5Lu"
      },
      "source": [
        "We can implement the same model as we have considered previously using a uniform prior and Bernoulli likelihoods directly in PyMC."
      ]
    },
    {
      "cell_type": "code",
      "metadata": {
        "id": "WWSCBl7Mw5Lu"
      },
      "source": [
        "model = pm.Model() \n",
        "    \n",
        "with model:\n",
        "    \n",
        "    p = pm.Uniform('p', 0, 1)\n",
        "    \n",
        "    obs = pm.ConstantData('obs', [True, True, False, False, False, False])\n",
        "    \n",
        "    observations = pm.Bernoulli(\"observations\", p, observed=obs)"
      ],
      "execution_count": null,
      "outputs": []
    },
    {
      "cell_type": "markdown",
      "source": [
        "We can then sample from this model."
      ],
      "metadata": {
        "id": "-Ycop6FOQAp_"
      }
    },
    {
      "cell_type": "code",
      "metadata": {
        "id": "BEodXPL_w5Lv"
      },
      "source": [
        "with model:\n",
        "    \n",
        "    idata = pm.sample(1000);"
      ],
      "execution_count": null,
      "outputs": []
    },
    {
      "cell_type": "markdown",
      "source": [
        "PyMC then has some tools that allow us to explore the posterior distributions."
      ],
      "metadata": {
        "id": "Jwb-1PkHP_-2"
      }
    },
    {
      "cell_type": "code",
      "source": [
        "pm.plot_trace(idata, var_names=['p'], combined=False);"
      ],
      "metadata": {
        "id": "0yV4q51OE4X0"
      },
      "execution_count": null,
      "outputs": []
    },
    {
      "cell_type": "code",
      "source": [
        "pm.summary(idata, round_to=2)"
      ],
      "metadata": {
        "id": "OnhT2YZ7Ge1g"
      },
      "execution_count": null,
      "outputs": []
    },
    {
      "cell_type": "markdown",
      "source": [
        "We can also extract the data as an array."
      ],
      "metadata": {
        "id": "0dDRKwjoQLF9"
      }
    },
    {
      "cell_type": "code",
      "source": [
        "data = idata.posterior.get('p')[0];"
      ],
      "metadata": {
        "id": "mBdnpfAhIGJb"
      },
      "execution_count": null,
      "outputs": []
    },
    {
      "cell_type": "markdown",
      "source": [
        "This allows us to generate custom plots and save them as PDF files for publications."
      ],
      "metadata": {
        "id": "vemQxXWtQR6n"
      }
    },
    {
      "cell_type": "code",
      "metadata": {
        "id": "XSil-P9sw5Lv"
      },
      "source": [
        "plt.figure(figsize=(10, 8))\n",
        "\n",
        "plt.hist(data, histtype='stepfilled', bins=70, alpha=0.85, color=\"#467821\", density=True)\n",
        "plt.xlim(0, 1)\n",
        "plt.title(\"Posterior Belief Probability Density Function\")\n",
        "plt.xlabel(\"Probability of Heads ($p$)\")\n",
        "\n",
        "plt.tight_layout()\n",
        "\n",
        "plt.savefig('plot.pdf')"
      ],
      "execution_count": null,
      "outputs": []
    }
  ]
}