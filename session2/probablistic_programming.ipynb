{
  "nbformat": 4,
  "nbformat_minor": 0,
  "metadata": {
    "kernelspec": {
      "display_name": "Python 3",
      "language": "python",
      "name": "python3"
    },
    "language_info": {
      "codemirror_mode": {
        "name": "ipython",
        "version": 3
      },
      "file_extension": ".py",
      "mimetype": "text/x-python",
      "name": "python",
      "nbconvert_exporter": "python",
      "pygments_lexer": "ipython3",
      "version": "3.7.1"
    },
    "colab": {
      "name": "probablistic_programming.ipynb",
      "provenance": []
    }
  },
  "cells": [
    {
      "cell_type": "markdown",
      "metadata": {
        "id": "UcRDly6sw5Ls"
      },
      "source": [
        "# Probabilistic Programming"
      ]
    },
    {
      "cell_type": "code",
      "metadata": {
        "id": "pDaQqPIMw5Lu"
      },
      "source": [
        "import math\n",
        "import pymc3 as pm\n",
        "import numpy as np\n",
        "import pandas as pd\n",
        "import seaborn as sns\n",
        "import matplotlib.pyplot as plt"
      ],
      "execution_count": null,
      "outputs": []
    },
    {
      "cell_type": "markdown",
      "metadata": {
        "id": "yS3xmSP9w5Lu"
      },
      "source": [
        "We can implement the same model as we have considered previously using a uniform prior and Bernoulli likelihoods directly in PyMC3."
      ]
    },
    {
      "cell_type": "code",
      "metadata": {
        "id": "WWSCBl7Mw5Lu"
      },
      "source": [
        "model = pm.Model() \n",
        "    \n",
        "with model:\n",
        "    \n",
        "    p = pm.Uniform('p', 0, 1)\n",
        "    \n",
        "    obs = pm.Data('obs', [True, True, False, False, False, False])\n",
        "    \n",
        "    observations = pm.Bernoulli(\"observations\", p, observed=obs)"
      ],
      "execution_count": null,
      "outputs": []
    },
    {
      "cell_type": "code",
      "metadata": {
        "id": "BEodXPL_w5Lv"
      },
      "source": [
        "with model:\n",
        "    \n",
        "    trace = pm.sample(10000);"
      ],
      "execution_count": null,
      "outputs": []
    },
    {
      "cell_type": "code",
      "metadata": {
        "id": "XSil-P9sw5Lv"
      },
      "source": [
        "plt.figure(figsize=(10, 8))\n",
        "\n",
        "plt.hist(trace['p'], histtype='stepfilled', bins=70, alpha=0.85, color=\"#467821\", density=True)\n",
        "plt.xlim(0, 1)\n",
        "plt.title(\"Posterior Belief Probability Density Function\")\n",
        "plt.xlabel(\"Probability of Heads ($p$)\")\n",
        "\n",
        "plt.tight_layout()"
      ],
      "execution_count": null,
      "outputs": []
    }
  ]
}