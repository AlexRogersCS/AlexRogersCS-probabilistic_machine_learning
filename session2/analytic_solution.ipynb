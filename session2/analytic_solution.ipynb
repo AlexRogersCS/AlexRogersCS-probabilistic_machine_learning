{
  "nbformat": 4,
  "nbformat_minor": 0,
  "metadata": {
    "kernelspec": {
      "display_name": "Python 3",
      "language": "python",
      "name": "python3"
    },
    "language_info": {
      "codemirror_mode": {
        "name": "ipython",
        "version": 3
      },
      "file_extension": ".py",
      "mimetype": "text/x-python",
      "name": "python",
      "nbconvert_exporter": "python",
      "pygments_lexer": "ipython3",
      "version": "3.7.1"
    },
    "colab": {
      "provenance": []
    }
  },
  "cells": [
    {
      "cell_type": "markdown",
      "metadata": {
        "id": "pdMrwLAmvgiE"
      },
      "source": [
        "# Analytic Solutions"
      ]
    },
    {
      "cell_type": "code",
      "metadata": {
        "id": "I3TX0B6_vgiF"
      },
      "source": [
        "import math\n",
        "import numpy as np\n",
        "import matplotlib.pyplot as plt"
      ],
      "execution_count": null,
      "outputs": []
    },
    {
      "cell_type": "code",
      "metadata": {
        "id": "hBAXSrDvvgiG"
      },
      "source": [
        "from scipy.stats import beta"
      ],
      "execution_count": null,
      "outputs": []
    },
    {
      "cell_type": "markdown",
      "metadata": {
        "id": "LpsNKD_WvgiG"
      },
      "source": [
        "### Flipping a Fair Coin \n",
        "\n",
        "We assume that we flip a coin $N$ times and observe that $n$ of these are heads."
      ]
    },
    {
      "cell_type": "code",
      "metadata": {
        "id": "lB2-aXbrvgiG"
      },
      "source": [
        "N = 6\n",
        "n = 2"
      ],
      "execution_count": null,
      "outputs": []
    },
    {
      "cell_type": "markdown",
      "metadata": {
        "id": "t5aFEZjzvgiH"
      },
      "source": [
        "Our prior is now given by a probility density function in the range of 0 to 1. This must integrate to 1.\n",
        "\n",
        "We start with an uninformed prior given by $\\rho(p) = 1$."
      ]
    },
    {
      "cell_type": "code",
      "metadata": {
        "id": "qZlFyPbFvgiH"
      },
      "source": [
        "plt.figure(figsize=(10, 6))\n",
        "plt.plot([0, 1], [1, 1])\n",
        "\n",
        "plt.xlim(0, 1)\n",
        "plt.ylim(0, 1.05)\n",
        "plt.title(\"Prior Belief Probability Density Function\")\n",
        "plt.xlabel(\"Probability of Heads ($p$)\");"
      ],
      "execution_count": null,
      "outputs": []
    },
    {
      "cell_type": "markdown",
      "metadata": {
        "id": "DzG61Gz2vgiH"
      },
      "source": [
        "We determine the value of $a$ and $b$."
      ]
    },
    {
      "cell_type": "code",
      "metadata": {
        "id": "77CpJIn7vgiI"
      },
      "source": [
        "a = n + 1\n",
        "b = N - n + 1"
      ],
      "execution_count": null,
      "outputs": []
    },
    {
      "cell_type": "markdown",
      "metadata": {
        "id": "pkCjXOr-vgiI"
      },
      "source": [
        "We can then just plot the posterior distribution which we known is simply given by the beta probabilty density function:\n",
        "\n",
        "\\begin{equation}\n",
        "\\rho(p|a,b) = \\text{Beta}(p|a, b)\n",
        "\\end{equation}"
      ]
    },
    {
      "cell_type": "code",
      "metadata": {
        "id": "2CjYBHtovgiI"
      },
      "source": [
        "STEPS = 1001\n",
        "\n",
        "p = np.linspace(0, 1, STEPS)\n",
        "\n",
        "posterior = beta.pdf(p, a, b)"
      ],
      "execution_count": null,
      "outputs": []
    },
    {
      "cell_type": "markdown",
      "metadata": {
        "id": "AtZPN1ndvgiI"
      },
      "source": [
        "We can plot our posterior beliefs."
      ]
    },
    {
      "cell_type": "code",
      "metadata": {
        "id": "piFqptk8vgiI"
      },
      "source": [
        "plt.figure(figsize=(10, 6))\n",
        "plt.plot(p, posterior)\n",
        "plt.xlim(0, 1)\n",
        "plt.ylim(0, 2.5)\n",
        "plt.title(\"Posterior Belief Probability Density Function\")\n",
        "plt.xlabel(\"Probability of Heads ($p$)\");"
      ],
      "execution_count": null,
      "outputs": []
    },
    {
      "cell_type": "markdown",
      "metadata": {
        "id": "Vipgmax8vgiJ"
      },
      "source": [
        "### More Coin Flips"
      ]
    },
    {
      "cell_type": "markdown",
      "metadata": {
        "id": "RrrVEMzFvgiJ"
      },
      "source": [
        "If we now flip the coin two more times and see two more heads we can just update the parameters of the beta probability density function."
      ]
    },
    {
      "cell_type": "code",
      "metadata": {
        "id": "lCMcielXvgiJ"
      },
      "source": [
        "a = a + 2\n",
        "\n",
        "posterior = beta.pdf(p, a, b)"
      ],
      "execution_count": null,
      "outputs": []
    },
    {
      "cell_type": "markdown",
      "metadata": {
        "id": "GNP-V_JovgiJ"
      },
      "source": [
        "We can again plot our posterior beliefs."
      ]
    },
    {
      "cell_type": "code",
      "metadata": {
        "id": "FjCK2pa3vgiJ"
      },
      "source": [
        "plt.figure(figsize=(10, 6))\n",
        "plt.plot(p, posterior)\n",
        "plt.xlim(0, 1)\n",
        "plt.ylim(0, 2.5)\n",
        "plt.title(\"Posterior Belief Probability Density Function\")\n",
        "plt.xlabel(\"Probability of Heads ($p$)\");"
      ],
      "execution_count": null,
      "outputs": []
    }
  ]
}