{
  "nbformat": 4,
  "nbformat_minor": 0,
  "metadata": {
    "kernelspec": {
      "display_name": "Python 3",
      "language": "python",
      "name": "python3"
    },
    "language_info": {
      "codemirror_mode": {
        "name": "ipython",
        "version": 3
      },
      "file_extension": ".py",
      "mimetype": "text/x-python",
      "name": "python",
      "nbconvert_exporter": "python",
      "pygments_lexer": "ipython3",
      "version": "3.7.1"
    },
    "colab": {
      "provenance": []
    }
  },
  "cells": [
    {
      "cell_type": "markdown",
      "metadata": {
        "id": "WmaFt6Q5gSeD"
      },
      "source": [
        "## Millikan Oil Drop Experiment"
      ]
    },
    {
      "cell_type": "code",
      "metadata": {
        "id": "nNbisKl8gSeH"
      },
      "source": [
        "import math\n",
        "import pymc as pm\n",
        "import numpy as np\n",
        "import matplotlib.pyplot as plt"
      ],
      "execution_count": null,
      "outputs": []
    },
    {
      "cell_type": "markdown",
      "metadata": {
        "id": "pfhI2RiSgSeI"
      },
      "source": [
        "Assume that we have made the following measurements of the charge on the oil drops. These are all in units of 1e-19 coulombs."
      ]
    },
    {
      "cell_type": "code",
      "metadata": {
        "id": "RDsp2NNugSeI"
      },
      "source": [
        "measurements = np.array([1.46, 3.18, 4.86, 3.26, 6.48, 1.52, 3.10, 3.26, 4.87, 1.60])"
      ],
      "execution_count": null,
      "outputs": []
    },
    {
      "cell_type": "markdown",
      "metadata": {
        "id": "zd5coiFPgSeI"
      },
      "source": [
        "We can build a probablistic model to describe this noisy measurement process."
      ]
    },
    {
      "cell_type": "code",
      "metadata": {
        "id": "goXXYnfJgSeJ"
      },
      "source": [
        "N = len(measurements)\n",
        "\n",
        "model = pm.Model()\n",
        "\n",
        "with model:\n",
        "    \n",
        "    charge = pm.Uniform(\"charge\", 1.0, 2.0)\n",
        "\n",
        "    number = pm.Poisson('number', 1.0, shape=(N))\n",
        "        \n",
        "    mu = (1 + number) * charge\n",
        "    \n",
        "    sd = pm.Exponential(\"sd\", 1.0 / 0.1)\n",
        "\n",
        "    observation = pm.Gamma(\"obs\", mu=mu, sigma=sd, observed=measurements) "
      ],
      "execution_count": null,
      "outputs": []
    },
    {
      "cell_type": "markdown",
      "metadata": {
        "id": "U1QuJUJkgSeJ"
      },
      "source": [
        "We run the model with some default settings."
      ]
    },
    {
      "cell_type": "code",
      "metadata": {
        "id": "rRJXqT7rgSeK"
      },
      "source": [
        "with model:\n",
        "    \n",
        "    idata = pm.sample(2000)"
      ],
      "execution_count": null,
      "outputs": []
    },
    {
      "cell_type": "markdown",
      "metadata": {
        "id": "9qVZ9EnNgSeK"
      },
      "source": [
        "We can quickly review the trace. In this case we need to select the random variables because *traceplot* does not know how to draw the discrete *number* random variable."
      ]
    },
    {
      "cell_type": "code",
      "metadata": {
        "id": "zXzCNNfngSeK"
      },
      "source": [
        "pm.plot_trace(idata, var_names=[\"charge\", \"sd\"], figsize=(8, 8));"
      ],
      "execution_count": null,
      "outputs": []
    },
    {
      "cell_type": "code",
      "source": [
        "pm.summary(idata, var_names=[\"charge\", \"sd\"])"
      ],
      "metadata": {
        "id": "Lsclu8ZCq7Wt"
      },
      "execution_count": null,
      "outputs": []
    },
    {
      "cell_type": "markdown",
      "metadata": {
        "id": "mkEQNOF6gSeL"
      },
      "source": [
        "Finally when we are happy we can generate some final plots and report on the results."
      ]
    },
    {
      "cell_type": "code",
      "metadata": {
        "scrolled": true,
        "id": "RCDTOjkFgSeL"
      },
      "source": [
        "charge = np.asarray(idata.posterior.get('charge')[0])\n",
        "sd = np.asarray(idata.posterior.get('sd')[0])\n",
        "\n",
        "fig, axes = plt.subplots(2, 1, figsize=(6, 6))\n",
        "\n",
        "axes[0].hist(charge, histtype='stepfilled', bins=100, alpha=0.85, color=\"#467821\", density=True)\n",
        "axes[0].set_xlim(1, 2)\n",
        "axes[0].set_title('Charge On The Electron ($e$)')\n",
        "axes[0].set_xlabel('Coulombs (x $10^{-19}$ C)')\n",
        "\n",
        "axes[1].hist(sd, histtype='stepfilled', bins=100, alpha=0.85, color=\"#A60628\", density=True)\n",
        "axes[1].set_xlim(0, 1)\n",
        "axes[1].set_title('Measurement Error ($\\sigma$)')\n",
        "axes[1].set_xlabel('Coulombs (x $10^{-19}$ C)')\n",
        "\n",
        "plt.tight_layout()\n",
        "\n",
        "plt.savefig('plot.pdf')"
      ],
      "execution_count": null,
      "outputs": []
    },
    {
      "cell_type": "markdown",
      "source": [
        "We can also explore the mean number of charges on each oil drop."
      ],
      "metadata": {
        "id": "nKALHDlArldh"
      }
    },
    {
      "cell_type": "code",
      "source": [
        "x = np.linspace(1, N, N)\n",
        "\n",
        "number = 1 + np.mean(np.asarray(idata.posterior.get('number')[0]), 0)\n",
        "\n",
        "plt.figure(figsize=(6, 4))\n",
        "plt.bar(x=x, height=number)\n",
        "\n",
        "plt.xticks(x)\n",
        "plt.title(\"Expected Number of Electrons on Oil Drop\")\n",
        "plt.xlabel(\"ID of Measurement\")\n",
        "plt.ylim(0, 5);"
      ],
      "metadata": {
        "id": "fwJfXoZ8rp0t"
      },
      "execution_count": null,
      "outputs": []
    }
  ]
}