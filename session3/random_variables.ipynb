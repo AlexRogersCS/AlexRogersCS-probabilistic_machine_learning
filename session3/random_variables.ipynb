{
  "nbformat": 4,
  "nbformat_minor": 0,
  "metadata": {
    "kernelspec": {
      "display_name": "Python 3",
      "language": "python",
      "name": "python3"
    },
    "language_info": {
      "codemirror_mode": {
        "name": "ipython",
        "version": 3
      },
      "file_extension": ".py",
      "mimetype": "text/x-python",
      "name": "python",
      "nbconvert_exporter": "python",
      "pygments_lexer": "ipython3",
      "version": "3.7.1"
    },
    "colab": {
      "provenance": []
    }
  },
  "cells": [
    {
      "cell_type": "markdown",
      "metadata": {
        "id": "gs7J7uRVMk18"
      },
      "source": [
        "## Random Variables"
      ]
    },
    {
      "cell_type": "code",
      "metadata": {
        "id": "NJQw5DGHMk1-"
      },
      "source": [
        "pip install pymc3"
      ],
      "execution_count": null,
      "outputs": []
    },
    {
      "cell_type": "code",
      "source": [
        "import math\n",
        "import pymc3 as pm\n",
        "import numpy as np\n",
        "import matplotlib.pyplot as plt"
      ],
      "metadata": {
        "id": "XYK4y_SyvgtL"
      },
      "execution_count": null,
      "outputs": []
    },
    {
      "cell_type": "markdown",
      "metadata": {
        "id": "LwBELvE0Mk1_"
      },
      "source": [
        "When we declare variables as distributions in PyMC3 we are really describing random variables and the distribution from which their value will be generated."
      ]
    },
    {
      "cell_type": "code",
      "metadata": {
        "id": "s-pH1i-IMk1_"
      },
      "source": [
        "model = pm.Model() \n",
        "    \n",
        "with model:\n",
        "    \n",
        "    p = pm.Beta('p', 3, 5)"
      ],
      "execution_count": null,
      "outputs": []
    },
    {
      "cell_type": "markdown",
      "metadata": {
        "id": "ckEH0Ep0Mk2A"
      },
      "source": [
        "We can generate an instance of the random variable directly."
      ]
    },
    {
      "cell_type": "code",
      "metadata": {
        "id": "dbDidvA1Mk2A"
      },
      "source": [
        "p.random()"
      ],
      "execution_count": null,
      "outputs": []
    },
    {
      "cell_type": "markdown",
      "metadata": {
        "id": "1AajfuB9Mk2B"
      },
      "source": [
        "We can also generate multiple instances. "
      ]
    },
    {
      "cell_type": "code",
      "metadata": {
        "id": "7Bt8vu_DMk2B"
      },
      "source": [
        "samples = p.random(size=(10000))"
      ],
      "execution_count": null,
      "outputs": []
    },
    {
      "cell_type": "code",
      "metadata": {
        "id": "nG2JdCV9Mk2C"
      },
      "source": [
        "plt.figure(figsize=(10, 8))\n",
        "\n",
        "plt.hist(samples, histtype='stepfilled', bins=70, alpha=0.85, color=\"#467821\", density=True)\n",
        "plt.xlim(0, 1)\n",
        "plt.title(\"Samples from Beta Probability Density Function\")\n",
        "plt.xlabel(\"Probability of Heads ($p$)\")\n",
        "\n",
        "plt.tight_layout()"
      ],
      "execution_count": null,
      "outputs": []
    },
    {
      "cell_type": "markdown",
      "metadata": {
        "id": "7pp6tj4iMk2C"
      },
      "source": [
        "We can also create a standalone distribution using the same library outside of a model context."
      ]
    },
    {
      "cell_type": "code",
      "metadata": {
        "id": "L4E3KwGUMk2C"
      },
      "source": [
        "beta = pm.Beta.dist(3, 5)"
      ],
      "execution_count": null,
      "outputs": []
    },
    {
      "cell_type": "markdown",
      "metadata": {
        "id": "b-bhOOHAMk2D"
      },
      "source": [
        "This distribution knows how to calculate its probability density function or likelihood."
      ]
    },
    {
      "cell_type": "code",
      "metadata": {
        "id": "F6oZVi8eMk2D"
      },
      "source": [
        "STEPS = 1000\n",
        "\n",
        "p = np.linspace(0, 1, STEPS)\n",
        "\n",
        "pdf = np.exp(beta.logp(p).eval())"
      ],
      "execution_count": null,
      "outputs": []
    },
    {
      "cell_type": "code",
      "metadata": {
        "id": "Vs3ccM_cMk2D"
      },
      "source": [
        "plt.figure(figsize=(10, 8))\n",
        "\n",
        "plt.plot(p, pdf)\n",
        "plt.xlim(0, 1)\n",
        "plt.ylim(0, 2.5)\n",
        "plt.title(\"Calcualted Beta Probability Density Function\")\n",
        "plt.xlabel(\"Probability of Heads ($p$)\");\n",
        "\n",
        "plt.tight_layout()"
      ],
      "execution_count": null,
      "outputs": []
    },
    {
      "cell_type": "markdown",
      "metadata": {
        "id": "2LmOCzB9Mk2E"
      },
      "source": [
        "It also knows how to generate samples in the same way that the random variable above does."
      ]
    },
    {
      "cell_type": "code",
      "metadata": {
        "id": "bZCjE-U7Mk2E"
      },
      "source": [
        "beta.random()"
      ],
      "execution_count": null,
      "outputs": []
    },
    {
      "cell_type": "code",
      "metadata": {
        "id": "Leb32xxZMk2E"
      },
      "source": [
        "beta.random(size=(10000))"
      ],
      "execution_count": null,
      "outputs": []
    }
  ]
}