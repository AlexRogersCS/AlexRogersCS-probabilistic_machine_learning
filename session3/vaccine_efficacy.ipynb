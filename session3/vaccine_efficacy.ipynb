{
  "nbformat": 4,
  "nbformat_minor": 0,
  "metadata": {
    "kernelspec": {
      "display_name": "Python 3",
      "language": "python",
      "name": "python3"
    },
    "language_info": {
      "codemirror_mode": {
        "name": "ipython",
        "version": 3
      },
      "file_extension": ".py",
      "mimetype": "text/x-python",
      "name": "python",
      "nbconvert_exporter": "python",
      "pygments_lexer": "ipython3",
      "version": "3.7.1"
    },
    "colab": {
      "provenance": []
    }
  },
  "cells": [
    {
      "cell_type": "markdown",
      "metadata": {
        "id": "ZxErAjZzLAha"
      },
      "source": [
        "## Vaccine Efficacy"
      ]
    },
    {
      "cell_type": "code",
      "source": [
        "import math\n",
        "import pymc as pm\n",
        "import numpy as np\n",
        "import matplotlib.pyplot as plt"
      ],
      "metadata": {
        "id": "j-gYPsRtuiWS"
      },
      "execution_count": null,
      "outputs": []
    },
    {
      "cell_type": "markdown",
      "metadata": {
        "id": "S9fW-2sWLAhc"
      },
      "source": [
        "We have the following data from the clinical trials of the three vaccines."
      ]
    },
    {
      "cell_type": "code",
      "metadata": {
        "id": "qh-iAKdULAhd"
      },
      "source": [
        "n_Pfizer_vaccine = 8\n",
        "n_Pfizer_placebo = 162\n",
        "\n",
        "n_Pfizer_total = 21500\n",
        "\n",
        "Pfizer_vaccine_outcomes = np.concatenate([np.zeros(n_Pfizer_total - n_Pfizer_vaccine), np.ones(n_Pfizer_vaccine)])\n",
        "Pfizer_placebo_outcomes = np.concatenate([np.zeros(n_Pfizer_total - n_Pfizer_placebo), np.ones(n_Pfizer_placebo)])\n",
        "\n",
        "\n",
        "n_Moderna_vaccine = 5\n",
        "n_Moderna_placebo = 90\n",
        "\n",
        "n_Moderna_total = 15000\n",
        "\n",
        "Moderna_vaccine_outcomes = np.concatenate([np.zeros(n_Moderna_total - n_Moderna_vaccine), np.ones(n_Moderna_vaccine)])\n",
        "Moderna_placebo_outcomes = np.concatenate([np.zeros(n_Moderna_total - n_Moderna_placebo), np.ones(n_Moderna_placebo)])\n",
        "\n",
        "\n",
        "n_AstraZeneca_1_vaccine = 3\n",
        "n_AstraZeneca_1_placebo = 34\n",
        "\n",
        "n_AstraZeneca_1_total = 1371\n",
        "\n",
        "AstraZeneca_1_vaccine_outcomes = np.concatenate([np.zeros(n_AstraZeneca_1_total - n_AstraZeneca_1_vaccine), np.ones(n_AstraZeneca_1_vaccine)])\n",
        "AstraZeneca_1_placebo_outcomes = np.concatenate([np.zeros(n_AstraZeneca_1_total - n_AstraZeneca_1_placebo), np.ones(n_AstraZeneca_1_placebo)])\n",
        "\n",
        "\n",
        "n_AstraZeneca_2_vaccine = 26\n",
        "n_AstraZeneca_2_placebo = 68\n",
        "\n",
        "n_AstraZeneca_2_total = 2248\n",
        "\n",
        "AstraZeneca_2_vaccine_outcomes = np.concatenate([np.zeros(n_AstraZeneca_2_total - n_AstraZeneca_2_vaccine), np.ones(n_AstraZeneca_2_vaccine)])\n",
        "AstraZeneca_2_placebo_outcomes = np.concatenate([np.zeros(n_AstraZeneca_2_total - n_AstraZeneca_2_placebo), np.ones(n_AstraZeneca_2_placebo)])"
      ],
      "execution_count": null,
      "outputs": []
    },
    {
      "cell_type": "markdown",
      "metadata": {
        "id": "HDcNc3m8LAhd"
      },
      "source": [
        "We can build a probablistic model to describe this noisy measurement process."
      ]
    },
    {
      "cell_type": "code",
      "metadata": {
        "id": "5jzWLIMqLAhd"
      },
      "source": [
        "model = pm.Model()\n",
        "\n",
        "with model:\n",
        "    \n",
        "    # Probability of exposure\n",
        "\n",
        "    p_Pfizer = pm.Beta('p_Pfizer', alpha=1, beta=1)\n",
        "    p_Moderna = pm.Beta('p_Moderna', alpha=1, beta=1)\n",
        "    p_AstraZeneca_1 = pm.Beta('p_AstraZeneca_1', alpha=1, beta=1)\n",
        "    p_AstraZeneca_2 = pm.Beta('p_AstraZeneca_2', alpha=1, beta=1)\n",
        "    \n",
        "    # Probability of protection\n",
        "\n",
        "    e_Pfizer = pm.Beta('e_Pfizer', alpha=1, beta=1)\n",
        "    e_Moderna = pm.Beta('e_Moderna', alpha=1, beta=1)\n",
        "    e_AstraZeneca_1 = pm.Beta('e_AstraZeneca_1', alpha=1, beta=1)\n",
        "    e_AstraZeneca_2 = pm.Beta('e_AstraZeneca_2', alpha=1, beta=1)\n",
        "    \n",
        "    # Likelihood of observed number of positive tests\n",
        "    \n",
        "    like_Pfizer_vaccine = pm.Bernoulli('like_Pfizer_vaccine', p=p_Pfizer * (1.0 - e_Pfizer), observed=Pfizer_vaccine_outcomes)\n",
        "    like_Pfizer_placebo = pm.Bernoulli('like_Pfizer_placebo', p=p_Pfizer, observed=Pfizer_placebo_outcomes)\n",
        "\n",
        "    like_Moderna_vaccine = pm.Bernoulli('like_Moderna_vaccine', p=p_Moderna * (1.0 - e_Moderna), observed=Moderna_vaccine_outcomes)    \n",
        "    like_Moderna_placebo = pm.Bernoulli('like_Moderna_placebo', p=p_Moderna, observed=Moderna_placebo_outcomes)\n",
        "    \n",
        "    like_AstraZeneca_1_vaccine = pm.Bernoulli('like_AstraZeneca_1_vaccine', p=p_AstraZeneca_1 * (1.0 - e_AstraZeneca_1), observed=AstraZeneca_1_vaccine_outcomes)\n",
        "    like_AstraZeneca_1_placebo = pm.Bernoulli('like_AstraZeneca_1_placebo', p=p_AstraZeneca_1, observed=AstraZeneca_1_placebo_outcomes)\n",
        "    \n",
        "    like_AstraZeneca_2_vaccine = pm.Bernoulli('like_AstraZeneca_2_vaccine', p=p_AstraZeneca_2 * (1.0 - e_AstraZeneca_2),  observed=AstraZeneca_2_vaccine_outcomes)\n",
        "    like_AstraZeneca_2_placebo = pm.Bernoulli('like_AstraZeneca_2_placebo', p=p_AstraZeneca_2, observed=AstraZeneca_2_placebo_outcomes)\n"
      ],
      "execution_count": null,
      "outputs": []
    },
    {
      "cell_type": "markdown",
      "metadata": {
        "id": "7XG-Fck-LAhe"
      },
      "source": [
        "We run the model with some default settings."
      ]
    },
    {
      "cell_type": "code",
      "metadata": {
        "id": "nLCbel1xLAhe"
      },
      "source": [
        "with model:\n",
        "    \n",
        "    idata = pm.sample(2000)"
      ],
      "execution_count": null,
      "outputs": []
    },
    {
      "cell_type": "markdown",
      "source": [
        "We can check the trace using the inbuilt plotting tool."
      ],
      "metadata": {
        "id": "i105uaaFMoC3"
      }
    },
    {
      "cell_type": "code",
      "source": [
        "pm.plot_trace(idata, var_names=['e_Pfizer', 'e_Moderna', 'e_AstraZeneca_1', 'e_AstraZeneca_2'], figsize=(12,16), combined=False);"
      ],
      "metadata": {
        "id": "GdhLvXvuMm2T"
      },
      "execution_count": null,
      "outputs": []
    },
    {
      "cell_type": "markdown",
      "metadata": {
        "id": "WAQk84zDLAhf"
      },
      "source": [
        "Finally when we are happy we can generate some final plots and report on the results."
      ]
    },
    {
      "cell_type": "code",
      "metadata": {
        "scrolled": true,
        "id": "-wigdvl8LAhf"
      },
      "source": [
        "fig, axes = plt.subplots(4, 1, figsize=(12, 9))\n",
        "\n",
        "data = idata.posterior.get('e_Pfizer')[0];\n",
        "\n",
        "axes[0].hist(data, histtype='stepfilled', bins=100, alpha=0.85, color=\"#467821\", density=True)\n",
        "axes[0].set_xlim(0, 1)\n",
        "axes[0].set_title('Pfizer')\n",
        "axes[0].set_xlabel('Probability of protection')\n",
        "\n",
        "data = idata.posterior.get('e_Moderna')[0];\n",
        "\n",
        "axes[1].hist(data, histtype='stepfilled', bins=100, alpha=0.85, color=\"#A60628\", density=True)\n",
        "axes[1].set_xlim(0, 1)\n",
        "axes[1].set_title('Moderna')\n",
        "axes[1].set_xlabel('Probability of protection')\n",
        "\n",
        "data = idata.posterior.get('e_AstraZeneca_1')[0];\n",
        "\n",
        "axes[2].hist(data, histtype='stepfilled', bins=100, alpha=0.85, color=\"#784621\", density=True)\n",
        "axes[2].set_xlim(0, 1)\n",
        "axes[2].set_title('AstraZeneca Regime 1')\n",
        "axes[2].set_xlabel('Probability of protection')\n",
        "\n",
        "data = idata.posterior.get('e_AstraZeneca_2')[0];\n",
        "\n",
        "axes[3].hist(data, histtype='stepfilled', bins=100, alpha=0.85, color=\"#06A628\", density=True)\n",
        "axes[3].set_xlim(0, 1)\n",
        "axes[3].set_title('AstraZeneca Regime 2')\n",
        "axes[3].set_xlabel('Probability of protection')\n",
        "\n",
        "plt.tight_layout()\n",
        "\n",
        "plt.savefig('results.pdf')"
      ],
      "execution_count": null,
      "outputs": []
    }
  ]
}