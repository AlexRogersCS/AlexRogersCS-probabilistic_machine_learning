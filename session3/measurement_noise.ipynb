{
  "nbformat": 4,
  "nbformat_minor": 0,
  "metadata": {
    "kernelspec": {
      "display_name": "Python 3",
      "language": "python",
      "name": "python3"
    },
    "language_info": {
      "codemirror_mode": {
        "name": "ipython",
        "version": 3
      },
      "file_extension": ".py",
      "mimetype": "text/x-python",
      "name": "python",
      "nbconvert_exporter": "python",
      "pygments_lexer": "ipython3",
      "version": "3.7.1"
    },
    "colab": {
      "provenance": []
    }
  },
  "cells": [
    {
      "cell_type": "markdown",
      "metadata": {
        "id": "UJ48kycINMsr"
      },
      "source": [
        "## Measurement Noise"
      ]
    },
    {
      "cell_type": "code",
      "source": [
        "pip install pymc3"
      ],
      "metadata": {
        "id": "kbg-8QZTwyc8"
      },
      "execution_count": null,
      "outputs": []
    },
    {
      "cell_type": "code",
      "source": [
        "import math\n",
        "import pymc3 as pm\n",
        "import numpy as np\n",
        "import matplotlib.pyplot as plt"
      ],
      "metadata": {
        "id": "xEGNkeYww0qo"
      },
      "execution_count": null,
      "outputs": []
    },
    {
      "cell_type": "markdown",
      "metadata": {
        "id": "sAu_6qnjNMsu"
      },
      "source": [
        "Assume we are trying to measure the circumference of an irregularly shaped object with a ruler."
      ]
    },
    {
      "cell_type": "code",
      "metadata": {
        "id": "Qpq6Ggu3NMsv"
      },
      "source": [
        "measurements = np.array([\n",
        "    12.5, 13.2, 15.1, 14.2, 13.5\n",
        "])"
      ],
      "execution_count": null,
      "outputs": []
    },
    {
      "cell_type": "markdown",
      "metadata": {
        "id": "4xYt1-yeNMsv"
      },
      "source": [
        "We can build a probablistic model to describe this noisy measurement process."
      ]
    },
    {
      "cell_type": "code",
      "metadata": {
        "id": "CchoxDCTNMsw"
      },
      "source": [
        "model = pm.Model()\n",
        "\n",
        "with model:\n",
        "    \n",
        "    mu = pm.Exponential(\"mu\", 1.0 / 15.0)\n",
        "\n",
        "    sigma = pm.Exponential('sigma', 1.0 / 1.0)\n",
        "            \n",
        "    observation = pm.Normal(\"obs\", mu=mu, sigma=sigma, observed=measurements) \n",
        "    \n",
        "    trace = pm.sample(5000);"
      ],
      "execution_count": null,
      "outputs": []
    },
    {
      "cell_type": "markdown",
      "metadata": {
        "id": "mE-HEttBNMsw"
      },
      "source": [
        "We often want to quickly explore the output of the MCMC process. To do so we can use the built in traceplot function."
      ]
    },
    {
      "cell_type": "code",
      "metadata": {
        "id": "AYmVgSl7NMsx"
      },
      "source": [
        "pm.traceplot(trace);"
      ],
      "execution_count": null,
      "outputs": []
    },
    {
      "cell_type": "markdown",
      "metadata": {
        "id": "evcIQO0kNMsx"
      },
      "source": [
        "We can then plot the data in the format that we require."
      ]
    },
    {
      "cell_type": "code",
      "metadata": {
        "scrolled": true,
        "id": "nGLMZwpQNMsx"
      },
      "source": [
        "fig, axes = plt.subplots(2, 1, figsize=(10, 5))\n",
        "\n",
        "axes[0].hist(trace['mu'], histtype='stepfilled', bins=70, alpha=0.85, color=\"#467821\", density=True)\n",
        "axes[0].set_xlim(12, 16)\n",
        "axes[0].set_title('Circumference')\n",
        "axes[0].set_xlabel('Length (cm)')\n",
        "\n",
        "axes[1].hist(trace['sigma'], histtype='stepfilled', bins=30, alpha=0.85, color=\"#A60628\", density=True)\n",
        "axes[1].set_xlim(0, 3)\n",
        "axes[1].set_title('Standard deviation of measurement error')\n",
        "axes[1].set_xlabel('Length (cm)')\n",
        "\n",
        "plt.tight_layout()"
      ],
      "execution_count": null,
      "outputs": []
    },
    {
      "cell_type": "markdown",
      "metadata": {
        "id": "zDo09hdWNMsy"
      },
      "source": [
        "We would typically want to know the mean of these distributions. We can get those directly from the trace samples."
      ]
    },
    {
      "cell_type": "code",
      "metadata": {
        "id": "vbGFbPT4NMsy"
      },
      "source": [
        "print(\"Estimate of circumference: \" + str(np.round(np.mean(trace['mu']),1)) + ' cm')\n",
        "print(\"Measurement error: \" + str(np.round(np.mean(trace['sigma']),1)) + ' cm')"
      ],
      "execution_count": null,
      "outputs": []
    }
  ]
}