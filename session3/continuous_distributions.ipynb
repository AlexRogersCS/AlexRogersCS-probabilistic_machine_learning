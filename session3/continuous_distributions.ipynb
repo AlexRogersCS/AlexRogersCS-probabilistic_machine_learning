{
  "nbformat": 4,
  "nbformat_minor": 0,
  "metadata": {
    "kernelspec": {
      "display_name": "Python 3",
      "language": "python",
      "name": "python3"
    },
    "language_info": {
      "codemirror_mode": {
        "name": "ipython",
        "version": 3
      },
      "file_extension": ".py",
      "mimetype": "text/x-python",
      "name": "python",
      "nbconvert_exporter": "python",
      "pygments_lexer": "ipython3",
      "version": "3.7.1"
    },
    "colab": {
      "provenance": []
    }
  },
  "cells": [
    {
      "cell_type": "markdown",
      "metadata": {
        "id": "htnPxOZxM7P5"
      },
      "source": [
        "## Continous Distributions"
      ]
    },
    {
      "cell_type": "code",
      "source": [
        "import math\n",
        "import pymc as pm\n",
        "import numpy as np\n",
        "import matplotlib.pyplot as plt"
      ],
      "metadata": {
        "id": "tJrkO-IxwaPu"
      },
      "execution_count": null,
      "outputs": []
    },
    {
      "cell_type": "markdown",
      "metadata": {
        "id": "tLntbalyM7P8"
      },
      "source": [
        "### Normal Distribution"
      ]
    },
    {
      "cell_type": "markdown",
      "metadata": {
        "id": "9ih6NpK3M7P8"
      },
      "source": [
        "We can use PyMC3 to declare and plot a normal distribution."
      ]
    },
    {
      "cell_type": "code",
      "metadata": {
        "id": "IQT5pCV1M7P9"
      },
      "source": [
        "STEPS = 1001\n",
        "\n",
        "x = np.linspace(-10, 10, STEPS)\n",
        "\n",
        "dist = pm.Normal.dist(mu=0, sigma=1)\n",
        "\n",
        "y = np.exp(pm.logp(dist, x).eval())"
      ],
      "execution_count": null,
      "outputs": []
    },
    {
      "cell_type": "code",
      "metadata": {
        "scrolled": true,
        "id": "lHigO8Q3M7P9"
      },
      "source": [
        "plt.figure(figsize=(10, 8))\n",
        "\n",
        "plt.plot(x, y)\n",
        "plt.title(\"Probability Density Function\")\n",
        "plt.xlabel(\"$x$\")\n",
        "\n",
        "plt.tight_layout()"
      ],
      "execution_count": null,
      "outputs": []
    },
    {
      "cell_type": "markdown",
      "metadata": {
        "id": "abr9NsmcM7P-"
      },
      "source": [
        "### Exponential Distribution"
      ]
    },
    {
      "cell_type": "markdown",
      "metadata": {
        "id": "06hyZVPGM7P-"
      },
      "source": [
        "We can use PyMC3 to declare and plot an exponential distribution."
      ]
    },
    {
      "cell_type": "code",
      "metadata": {
        "id": "dbQWEEy0M7P-"
      },
      "source": [
        "STEPS = 1001\n",
        "\n",
        "x = np.linspace(0, 10, STEPS)\n",
        "\n",
        "dist = pm.Exponential.dist(lam=0.5)\n",
        "\n",
        "y = np.exp(pm.logp(dist, x).eval())"
      ],
      "execution_count": null,
      "outputs": []
    },
    {
      "cell_type": "code",
      "metadata": {
        "id": "c7WTwooCM7P_"
      },
      "source": [
        "plt.figure(figsize=(10, 8))\n",
        "\n",
        "plt.plot(x, y)\n",
        "plt.title(\"Probability Density Function\")\n",
        "plt.xlabel(\"$x$\")\n",
        "\n",
        "plt.tight_layout()"
      ],
      "execution_count": null,
      "outputs": []
    },
    {
      "cell_type": "markdown",
      "metadata": {
        "id": "8nEXno8sM7P_"
      },
      "source": [
        "### Gamma Distribution"
      ]
    },
    {
      "cell_type": "markdown",
      "metadata": {
        "id": "OIGsPErWM7P_"
      },
      "source": [
        "We can use PyMC3 to declare and plot a gamma distribution."
      ]
    },
    {
      "cell_type": "code",
      "metadata": {
        "id": "E6AnR-pRM7QA"
      },
      "source": [
        "STEPS = 1001\n",
        "\n",
        "x = np.linspace(0, 10, STEPS)\n",
        "\n",
        "dist = pm.Gamma.dist(alpha=1, beta=1)\n",
        "\n",
        "y = np.exp(pm.logp(dist, x).eval())"
      ],
      "execution_count": null,
      "outputs": []
    },
    {
      "cell_type": "code",
      "metadata": {
        "id": "Fa4rjKGcM7QA"
      },
      "source": [
        "plt.figure(figsize=(10, 8))\n",
        "\n",
        "plt.plot(x, y)\n",
        "plt.title(\"Probability Density Function\")\n",
        "plt.xlabel(\"$x$\")\n",
        "\n",
        "plt.tight_layout()"
      ],
      "execution_count": null,
      "outputs": []
    }
  ]
}